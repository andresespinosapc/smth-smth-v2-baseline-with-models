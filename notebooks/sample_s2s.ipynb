{
 "cells": [
  {
   "cell_type": "code",
   "execution_count": 2,
   "metadata": {
    "ExecuteTime": {
     "end_time": "2019-08-23T16:27:39.343580Z",
     "start_time": "2019-08-23T16:27:35.902740Z"
    }
   },
   "outputs": [],
   "source": [
    "import os\n",
    "import json\n",
    "import pandas as pd"
   ]
  },
  {
   "cell_type": "code",
   "execution_count": 3,
   "metadata": {
    "ExecuteTime": {
     "end_time": "2019-08-23T16:27:39.348383Z",
     "start_time": "2019-08-23T16:27:39.345735Z"
    }
   },
   "outputs": [],
   "source": [
    "data_dir = '/mnt/nas2/GrimaRepo/datasets/20BN-SOMETHING-SOMETHING-V2'"
   ]
  },
  {
   "cell_type": "code",
   "execution_count": 8,
   "metadata": {
    "ExecuteTime": {
     "end_time": "2019-08-23T16:30:31.416037Z",
     "start_time": "2019-08-23T16:30:30.645393Z"
    }
   },
   "outputs": [],
   "source": [
    "prefix = 'something-something-v2-'\n",
    "labels_json = json.load(open(os.path.join(data_dir, prefix + 'labels.json'), encoding='utf8'))\n",
    "train_json = json.load(open(os.path.join(data_dir, prefix + 'train.json'), encoding='utf8'))\n",
    "val_json = json.load(open(os.path.join(data_dir, prefix + 'validation.json'), encoding='utf8'))\n",
    "test_json = json.load(open(os.path.join(data_dir, prefix + 'test.json'), encoding='utf8'))"
   ]
  },
  {
   "cell_type": "code",
   "execution_count": 9,
   "metadata": {
    "ExecuteTime": {
     "end_time": "2019-08-23T16:30:34.691758Z",
     "start_time": "2019-08-23T16:30:34.684289Z"
    }
   },
   "outputs": [],
   "source": [
    "def get_df(json_data):\n",
    "    data = []\n",
    "    for json_elem in json_data:\n",
    "        video_id = json_elem['id']\n",
    "        class_name = json_elem['template'].replace('[', '').replace(']', '')\n",
    "        label = labels_json[class_name]\n",
    "        data.append([video_id, label])\n",
    "    df = pd.DataFrame(data, columns=['video_id', 'label'])\n",
    "    \n",
    "    return df"
   ]
  },
  {
   "cell_type": "code",
   "execution_count": 11,
   "metadata": {
    "ExecuteTime": {
     "end_time": "2019-08-23T16:31:04.042700Z",
     "start_time": "2019-08-23T16:31:03.735212Z"
    }
   },
   "outputs": [],
   "source": [
    "train_df = get_df(train_json)\n",
    "val_df = get_df(val_json)\n",
    "# test_df = get_df(test_json)"
   ]
  },
  {
   "cell_type": "code",
   "execution_count": 49,
   "metadata": {
    "ExecuteTime": {
     "end_time": "2019-08-23T16:44:30.273947Z",
     "start_time": "2019-08-23T16:44:30.256973Z"
    }
   },
   "outputs": [],
   "source": [
    "train_id_to_label = train_df.set_index('video_id')\n",
    "val_id_to_label = val_df.set_index('video_id')"
   ]
  },
  {
   "cell_type": "code",
   "execution_count": 50,
   "metadata": {
    "ExecuteTime": {
     "end_time": "2019-08-23T16:44:31.487379Z",
     "start_time": "2019-08-23T16:44:31.464084Z"
    }
   },
   "outputs": [],
   "source": [
    "n_train = train_df.count()['label']\n",
    "n_train_sample = int(.1 * n_train)"
   ]
  },
  {
   "cell_type": "code",
   "execution_count": 51,
   "metadata": {
    "ExecuteTime": {
     "end_time": "2019-08-23T16:44:31.698123Z",
     "start_time": "2019-08-23T16:44:31.671779Z"
    }
   },
   "outputs": [],
   "source": [
    "labels_by_size = train_df.groupby('label')['video_id'].count().sort_values(ascending=False)\n",
    "sample_size = 0\n",
    "sample_labels = []\n",
    "for label, size in labels_by_size.iteritems():\n",
    "    sample_size += size\n",
    "    sample_labels.append(label)\n",
    "    if sample_size >= n_train_sample:\n",
    "        break"
   ]
  },
  {
   "cell_type": "code",
   "execution_count": 60,
   "metadata": {
    "ExecuteTime": {
     "end_time": "2019-08-23T16:46:08.865383Z",
     "start_time": "2019-08-23T16:46:08.858791Z"
    }
   },
   "outputs": [],
   "source": [
    "from tqdm import tqdm\n",
    "def get_sample_json(original_json, original_id_to_label):\n",
    "    sample_json = []\n",
    "    for json_elem in tqdm(original_json):\n",
    "        video_id = json_elem['id']\n",
    "        label = original_id_to_label.loc[video_id]['label']\n",
    "        if label in sample_labels:\n",
    "            sample_json.append(json_elem)\n",
    "    return sample_json"
   ]
  },
  {
   "cell_type": "code",
   "execution_count": 61,
   "metadata": {
    "ExecuteTime": {
     "end_time": "2019-08-23T16:46:37.810118Z",
     "start_time": "2019-08-23T16:46:10.229154Z"
    }
   },
   "outputs": [
    {
     "name": "stderr",
     "output_type": "stream",
     "text": [
      "100%|██████████| 168913/168913 [00:24<00:00, 7017.14it/s]\n",
      "100%|██████████| 24777/24777 [00:03<00:00, 7078.89it/s]\n"
     ]
    }
   ],
   "source": [
    "sample_train_json = get_sample_json(train_json, train_id_to_label)\n",
    "sample_val_json = get_sample_json(val_json, val_id_to_label)"
   ]
  },
  {
   "cell_type": "code",
   "execution_count": 68,
   "metadata": {
    "ExecuteTime": {
     "end_time": "2019-08-23T16:49:20.263272Z",
     "start_time": "2019-08-23T16:49:19.898973Z"
    }
   },
   "outputs": [],
   "source": [
    "json.dump(sample_train_json, open('train_10percent.json', 'w'))\n",
    "json.dump(sample_val_json, open('val_10percent.json', 'w'))"
   ]
  },
  {
   "cell_type": "code",
   "execution_count": null,
   "metadata": {},
   "outputs": [],
   "source": []
  }
 ],
 "metadata": {
  "kernelspec": {
   "display_name": "Python 3",
   "language": "python",
   "name": "python3"
  },
  "language_info": {
   "codemirror_mode": {
    "name": "ipython",
    "version": 3
   },
   "file_extension": ".py",
   "mimetype": "text/x-python",
   "name": "python",
   "nbconvert_exporter": "python",
   "pygments_lexer": "ipython3",
   "version": "3.6.8"
  }
 },
 "nbformat": 4,
 "nbformat_minor": 2
}
