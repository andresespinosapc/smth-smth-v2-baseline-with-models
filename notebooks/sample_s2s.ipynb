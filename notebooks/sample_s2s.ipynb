{
 "cells": [
  {
   "cell_type": "code",
   "execution_count": 28,
   "metadata": {
    "ExecuteTime": {
     "end_time": "2019-09-06T21:41:11.663075Z",
     "start_time": "2019-09-06T21:41:11.658437Z"
    }
   },
   "outputs": [],
   "source": [
    "import os\n",
    "import json\n",
    "import pandas as pd"
   ]
  },
  {
   "cell_type": "code",
   "execution_count": 29,
   "metadata": {
    "ExecuteTime": {
     "end_time": "2019-09-06T21:41:11.843193Z",
     "start_time": "2019-09-06T21:41:11.839088Z"
    }
   },
   "outputs": [],
   "source": [
    "data_dir = '/mnt/nas2/GrimaRepo/datasets/20BN-SOMETHING-SOMETHING-V2'"
   ]
  },
  {
   "cell_type": "code",
   "execution_count": 30,
   "metadata": {
    "ExecuteTime": {
     "end_time": "2019-09-06T21:41:12.984024Z",
     "start_time": "2019-09-06T21:41:12.103715Z"
    }
   },
   "outputs": [],
   "source": [
    "prefix = 'something-something-v2-'\n",
    "labels_json = json.load(open(os.path.join(data_dir, prefix + 'labels.json'), encoding='utf8'))\n",
    "train_json = json.load(open(os.path.join(data_dir, prefix + 'train.json'), encoding='utf8'))\n",
    "val_json = json.load(open(os.path.join(data_dir, prefix + 'validation.json'), encoding='utf8'))\n",
    "test_json = json.load(open(os.path.join(data_dir, prefix + 'test.json'), encoding='utf8'))"
   ]
  },
  {
   "cell_type": "code",
   "execution_count": 31,
   "metadata": {
    "ExecuteTime": {
     "end_time": "2019-09-06T21:41:12.990970Z",
     "start_time": "2019-09-06T21:41:12.986344Z"
    }
   },
   "outputs": [],
   "source": [
    "def get_df(json_data):\n",
    "    data = []\n",
    "    for json_elem in json_data:\n",
    "        video_id = json_elem['id']\n",
    "        class_name = json_elem['template'].replace('[', '').replace(']', '')\n",
    "        label = int(labels_json[class_name])\n",
    "        data.append([video_id, label])\n",
    "    df = pd.DataFrame(data, columns=['video_id', 'label'])\n",
    "    \n",
    "    return df"
   ]
  },
  {
   "cell_type": "code",
   "execution_count": 32,
   "metadata": {
    "ExecuteTime": {
     "end_time": "2019-09-06T21:41:14.165977Z",
     "start_time": "2019-09-06T21:41:13.592247Z"
    }
   },
   "outputs": [],
   "source": [
    "train_df = get_df(train_json)\n",
    "val_df = get_df(val_json)\n",
    "# test_df = get_df(test_json)"
   ]
  },
  {
   "cell_type": "code",
   "execution_count": 33,
   "metadata": {
    "ExecuteTime": {
     "end_time": "2019-09-06T21:41:14.797794Z",
     "start_time": "2019-09-06T21:41:14.538249Z"
    }
   },
   "outputs": [
    {
     "data": {
      "text/plain": [
       "<matplotlib.legend.Legend at 0x7f8922920780>"
      ]
     },
     "execution_count": 33,
     "metadata": {},
     "output_type": "execute_result"
    },
    {
     "data": {
      "image/png": "[encoded data removed]",
      "text/plain": [
       "<Figure size 432x288 with 1 Axes>"
      ]
     },
     "metadata": {
      "needs_background": "light"
     },
     "output_type": "display_data"
    }
   ],
   "source": [
    "# Plot number of samples by split\n",
    "\n",
    "import numpy as np\n",
    "import matplotlib.pyplot as plt\n",
    "%matplotlib inline\n",
    "\n",
    "a = np.array(train_df.groupby('label')['video_id'].count().sort_values(ascending=False).tolist()) / len(train_json)\n",
    "b = np.array(val_df.groupby('label')['video_id'].count().sort_values(ascending=False).tolist()) / len(val_json)\n",
    "\n",
    "ap, = plt.plot(a)\n",
    "bp, = plt.plot(b)\n",
    "plt.legend([ap, bp], ['n_samples train', 'n_samples val'])"
   ]
  },
  {
   "cell_type": "code",
   "execution_count": 34,
   "metadata": {
    "ExecuteTime": {
     "end_time": "2019-09-06T21:41:15.298995Z",
     "start_time": "2019-09-06T21:41:15.284723Z"
    }
   },
   "outputs": [],
   "source": [
    "train_id_to_label = train_df.set_index('video_id')\n",
    "val_id_to_label = val_df.set_index('video_id')"
   ]
  },
  {
   "cell_type": "code",
   "execution_count": 35,
   "metadata": {
    "ExecuteTime": {
     "end_time": "2019-09-06T21:41:16.642937Z",
     "start_time": "2019-09-06T21:41:16.623936Z"
    }
   },
   "outputs": [],
   "source": [
    "n_train = train_df.count()['label']\n",
    "n_train_sample = int(.1 * n_train)\n",
    "# n_train_sample = 100"
   ]
  },
  {
   "cell_type": "code",
   "execution_count": 43,
   "metadata": {
    "ExecuteTime": {
     "end_time": "2019-09-06T21:42:42.822901Z",
     "start_time": "2019-09-06T21:42:42.799602Z"
    }
   },
   "outputs": [],
   "source": [
    "labels_by_size = train_df.groupby('label')['video_id'].count().sort_values(ascending=False)\n",
    "# Only get classes with less than 1000 samples\n",
    "labels_by_size = labels_by_size[labels_by_size <= 1000]\n",
    "sample_size = 0\n",
    "sample_labels = []\n",
    "for label, size in labels_by_size.iteritems():\n",
    "    sample_size += size\n",
    "    sample_labels.append(label)\n",
    "    if sample_size >= n_train_sample:\n",
    "        break\n",
    "sample_labels = sorted(sample_labels)"
   ]
  },
  {
   "cell_type": "code",
   "execution_count": 37,
   "metadata": {
    "ExecuteTime": {
     "end_time": "2019-09-06T21:41:17.991750Z",
     "start_time": "2019-09-06T21:41:17.983792Z"
    }
   },
   "outputs": [],
   "source": [
    "from tqdm import tqdm\n",
    "def get_sample_json(original_json, original_id_to_label):\n",
    "    sample_json = []\n",
    "    for json_elem in tqdm(original_json):\n",
    "        video_id = json_elem['id']\n",
    "        label = original_id_to_label.loc[video_id]['label']\n",
    "        if label in sample_labels:\n",
    "            sample_json.append(json_elem)\n",
    "    return sample_json"
   ]
  },
  {
   "cell_type": "code",
   "execution_count": 38,
   "metadata": {
    "ExecuteTime": {
     "end_time": "2019-09-06T21:42:06.072599Z",
     "start_time": "2019-09-06T21:41:23.490113Z"
    }
   },
   "outputs": [
    {
     "name": "stderr",
     "output_type": "stream",
     "text": [
      "100%|██████████| 168913/168913 [00:37<00:00, 4544.72it/s]\n",
      "100%|██████████| 24777/24777 [00:05<00:00, 4584.68it/s]\n"
     ]
    }
   ],
   "source": [
    "sample_train_json = get_sample_json(train_json, train_id_to_label)\n",
    "sample_val_json = get_sample_json(val_json, val_id_to_label)"
   ]
  },
  {
   "cell_type": "code",
   "execution_count": 57,
   "metadata": {
    "ExecuteTime": {
     "end_time": "2019-09-06T21:47:44.345068Z",
     "start_time": "2019-09-06T21:47:44.337396Z"
    }
   },
   "outputs": [],
   "source": [
    "sample_labels_json = {}\n",
    "label_i = 0\n",
    "sorted_labels_json = sorted(map(lambda x: (x[0], int(x[1])), labels_json.items()), key=lambda x: x[1])\n",
    "for label_name, label in sorted_labels_json:\n",
    "    if label in sample_labels:\n",
    "        sample_labels_json[label_name] = str(label_i)\n",
    "        label_i += 1"
   ]
  },
  {
   "cell_type": "code",
   "execution_count": 58,
   "metadata": {
    "ExecuteTime": {
     "end_time": "2019-09-06T21:47:44.763876Z",
     "start_time": "2019-09-06T21:47:44.754174Z"
    }
   },
   "outputs": [
    {
     "name": "stdout",
     "output_type": "stream",
     "text": [
      "Original\n",
      "Number of classes: 174\n",
      "Train size: 168913\n",
      "Val size: 24777\n",
      "\n",
      "Sample\n",
      "Number of classes: 18\n",
      "Train size: 16923\n",
      "Val size: 2547\n"
     ]
    }
   ],
   "source": [
    "print('Original')\n",
    "print('Number of classes:', len(labels_json))\n",
    "print('Train size:', len(train_json))\n",
    "print('Val size:', len(val_json))\n",
    "\n",
    "print()\n",
    "\n",
    "print('Sample')\n",
    "print('Number of classes:', len(sample_labels))\n",
    "print('Train size:', len(sample_train_json))\n",
    "print('Val size:', len(sample_val_json))"
   ]
  },
  {
   "cell_type": "code",
   "execution_count": 59,
   "metadata": {
    "ExecuteTime": {
     "end_time": "2019-09-06T21:47:45.707800Z",
     "start_time": "2019-09-06T21:47:45.704696Z"
    }
   },
   "outputs": [],
   "source": [
    "SAVE_SUFFIX = '10percent'"
   ]
  },
  {
   "cell_type": "code",
   "execution_count": 61,
   "metadata": {
    "ExecuteTime": {
     "end_time": "2019-09-06T21:48:14.592761Z",
     "start_time": "2019-09-06T21:48:14.147345Z"
    }
   },
   "outputs": [],
   "source": [
    "json.dump(sample_train_json, open('train_{}.json'.format(SAVE_SUFFIX), 'w'))\n",
    "json.dump(sample_val_json, open('val_{}.json'.format(SAVE_SUFFIX), 'w'))\n",
    "json.dump(sample_labels_json, open('labels_{}.json'.format(SAVE_SUFFIX), 'w'))"
   ]
  },
  {
   "cell_type": "code",
   "execution_count": 64,
   "metadata": {
    "ExecuteTime": {
     "end_time": "2019-09-06T21:49:47.324899Z",
     "start_time": "2019-09-06T21:49:47.180338Z"
    }
   },
   "outputs": [],
   "source": [
    "label_to_name = {}\n",
    "for name, label in labels_json.items():\n",
    "    label_to_name[int(label)] = name\n",
    "    \n",
    "with open('label_names_{}.txt'.format(SAVE_SUFFIX), 'w') as f:\n",
    "    for label in sample_labels:\n",
    "        f.write('{}\\n'.format(label_to_name[label]))"
   ]
  }
 ],
 "metadata": {
  "kernelspec": {
   "display_name": "Python 3",
   "language": "python",
   "name": "python3"
  },
  "language_info": {
   "codemirror_mode": {
    "name": "ipython",
    "version": 3
   },
   "file_extension": ".py",
   "mimetype": "text/x-python",
   "name": "python",
   "nbconvert_exporter": "python",
   "pygments_lexer": "ipython3",
   "version": "3.6.8"
  }
 },
 "nbformat": 4,
 "nbformat_minor": 2
}
